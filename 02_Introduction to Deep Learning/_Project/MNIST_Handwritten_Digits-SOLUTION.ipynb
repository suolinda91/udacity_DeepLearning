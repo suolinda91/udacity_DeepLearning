{
 "cells": [
  {
   "cell_type": "markdown",
   "metadata": {},
   "source": [
    "# Introduction\n",
    "\n",
    "In this project, you will build a neural network of your own design to evaluate the MNIST dataset.\n",
    "\n",
    "Some of the benchmark results on MNIST include can be found [on Yann LeCun's page](http://yann.lecun.com/exdb/mnist/) and include:\n",
    "\n",
    "88% [Lecun et al., 1998](http://yann.lecun.com/exdb/publis/pdf/lecun-98.pdf)\n",
    "95.3% [Lecun et al., 1998](http://yann.lecun.com/exdb/publis/pdf/lecun-98.pdf)\n",
    "99.65% [Ciresan et al., 2011](http://people.idsia.ch/~juergen/ijcai2011.pdf)\n",
    "\n",
    "MNIST is a great dataset for sanity checking your models, since the accuracy levels achieved by large convolutional neural networks and small linear models are both quite high. This makes it important to be familiar with the data.\n",
    "\n",
    "## Installation"
   ]
  },
  {
   "cell_type": "code",
   "execution_count": 1,
   "metadata": {},
   "outputs": [],
   "source": [
    "# Update the PATH to include the user installation directory. \n",
    "import os\n",
    "os.environ['PATH'] = f\"{os.environ['PATH']}:/root/.local/bin\"\n",
    "\n",
    "# Restart the Kernel before you move on to the next step."
   ]
  },
  {
   "cell_type": "markdown",
   "metadata": {},
   "source": [
    "#### Important: Restart the Kernel before you move on to the next step."
   ]
  },
  {
   "cell_type": "code",
   "execution_count": 12,
   "metadata": {},
   "outputs": [
    {
     "name": "stdout",
     "output_type": "stream",
     "text": [
      "Defaulting to user installation because normal site-packages is not writeable\n",
      "Requirement already satisfied: opencv-python-headless==4.5.3.56 in /root/.local/lib/python3.7/site-packages (from -r requirements.txt (line 1)) (4.5.3.56)\n",
      "Requirement already satisfied: matplotlib==3.4.3 in /opt/conda/lib/python3.7/site-packages (from -r requirements.txt (line 2)) (3.4.3)\n",
      "Requirement already satisfied: numpy==1.21.2 in /opt/conda/lib/python3.7/site-packages (from -r requirements.txt (line 3)) (1.21.2)\n",
      "Requirement already satisfied: pillow==7.0.0 in /opt/conda/lib/python3.7/site-packages (from -r requirements.txt (line 4)) (7.0.0)\n",
      "Requirement already satisfied: bokeh==2.1.1 in /root/.local/lib/python3.7/site-packages (from -r requirements.txt (line 5)) (2.1.1)\n",
      "Requirement already satisfied: torch==1.11.0 in /opt/conda/lib/python3.7/site-packages (from -r requirements.txt (line 6)) (1.11.0)\n",
      "Requirement already satisfied: torchvision==0.12.0 in /root/.local/lib/python3.7/site-packages (from -r requirements.txt (line 7)) (0.12.0)\n",
      "Requirement already satisfied: tqdm==4.63.0 in /root/.local/lib/python3.7/site-packages (from -r requirements.txt (line 8)) (4.63.0)\n",
      "Requirement already satisfied: ipywidgets==7.7.0 in /root/.local/lib/python3.7/site-packages (from -r requirements.txt (line 9)) (7.7.0)\n",
      "Requirement already satisfied: livelossplot==0.5.4 in /root/.local/lib/python3.7/site-packages (from -r requirements.txt (line 10)) (0.5.4)\n",
      "Requirement already satisfied: pytest==7.1.1 in /root/.local/lib/python3.7/site-packages (from -r requirements.txt (line 11)) (7.1.1)\n",
      "Requirement already satisfied: pandas==1.3.5 in /root/.local/lib/python3.7/site-packages (from -r requirements.txt (line 12)) (1.3.5)\n",
      "Requirement already satisfied: seaborn==0.11.2 in /root/.local/lib/python3.7/site-packages (from -r requirements.txt (line 13)) (0.11.2)\n",
      "Requirement already satisfied: jupyter==1.0.0 in /root/.local/lib/python3.7/site-packages (from -r requirements.txt (line 14)) (1.0.0)\n",
      "Requirement already satisfied: ipykernel==4.10.0 in /root/.local/lib/python3.7/site-packages (from -r requirements.txt (line 15)) (4.10.0)\n",
      "Requirement already satisfied: cycler>=0.10 in /opt/conda/lib/python3.7/site-packages (from matplotlib==3.4.3->-r requirements.txt (line 2)) (0.10.0)\n",
      "Requirement already satisfied: pyparsing>=2.2.1 in /opt/conda/lib/python3.7/site-packages (from matplotlib==3.4.3->-r requirements.txt (line 2)) (2.4.6)\n",
      "Requirement already satisfied: kiwisolver>=1.0.1 in /opt/conda/lib/python3.7/site-packages (from matplotlib==3.4.3->-r requirements.txt (line 2)) (1.1.0)\n",
      "Requirement already satisfied: python-dateutil>=2.7 in /opt/conda/lib/python3.7/site-packages (from matplotlib==3.4.3->-r requirements.txt (line 2)) (2.8.1)\n",
      "Requirement already satisfied: packaging>=16.8 in /opt/conda/lib/python3.7/site-packages (from bokeh==2.1.1->-r requirements.txt (line 5)) (20.1)\n",
      "Requirement already satisfied: Jinja2>=2.7 in /opt/conda/lib/python3.7/site-packages (from bokeh==2.1.1->-r requirements.txt (line 5)) (2.11.1)\n",
      "Requirement already satisfied: tornado>=5.1 in /opt/conda/lib/python3.7/site-packages (from bokeh==2.1.1->-r requirements.txt (line 5)) (5.1.1)\n",
      "Requirement already satisfied: typing-extensions>=3.7.4 in /opt/conda/lib/python3.7/site-packages (from bokeh==2.1.1->-r requirements.txt (line 5)) (3.7.4.1)\n",
      "Requirement already satisfied: PyYAML>=3.10 in /opt/conda/lib/python3.7/site-packages (from bokeh==2.1.1->-r requirements.txt (line 5)) (5.3)\n",
      "Requirement already satisfied: requests in /opt/conda/lib/python3.7/site-packages (from torchvision==0.12.0->-r requirements.txt (line 7)) (2.23.0)\n",
      "Requirement already satisfied: ipython-genutils~=0.2.0 in /opt/conda/lib/python3.7/site-packages (from ipywidgets==7.7.0->-r requirements.txt (line 9)) (0.2.0)\n",
      "Requirement already satisfied: widgetsnbextension~=3.6.0 in /root/.local/lib/python3.7/site-packages (from ipywidgets==7.7.0->-r requirements.txt (line 9)) (3.6.6)\n",
      "Requirement already satisfied: traitlets>=4.3.1 in /opt/conda/lib/python3.7/site-packages (from ipywidgets==7.7.0->-r requirements.txt (line 9)) (4.3.3)\n",
      "Requirement already satisfied: nbformat>=4.2.0 in /opt/conda/lib/python3.7/site-packages (from ipywidgets==7.7.0->-r requirements.txt (line 9)) (5.0.4)\n",
      "Requirement already satisfied: ipython>=4.0.0; python_version >= \"3.3\" in /opt/conda/lib/python3.7/site-packages (from ipywidgets==7.7.0->-r requirements.txt (line 9)) (7.13.0)\n",
      "Requirement already satisfied: jupyterlab-widgets>=1.0.0; python_version >= \"3.6\" in /root/.local/lib/python3.7/site-packages (from ipywidgets==7.7.0->-r requirements.txt (line 9)) (3.0.9)\n",
      "Requirement already satisfied: pluggy<2.0,>=0.12 in /root/.local/lib/python3.7/site-packages (from pytest==7.1.1->-r requirements.txt (line 11)) (1.2.0)\n",
      "Requirement already satisfied: importlib-metadata>=0.12; python_version < \"3.8\" in /opt/conda/lib/python3.7/site-packages (from pytest==7.1.1->-r requirements.txt (line 11)) (1.5.0)\n",
      "Requirement already satisfied: attrs>=19.2.0 in /opt/conda/lib/python3.7/site-packages (from pytest==7.1.1->-r requirements.txt (line 11)) (19.3.0)\n",
      "Requirement already satisfied: py>=1.8.2 in /root/.local/lib/python3.7/site-packages (from pytest==7.1.1->-r requirements.txt (line 11)) (1.11.0)\n",
      "Requirement already satisfied: tomli>=1.0.0 in /root/.local/lib/python3.7/site-packages (from pytest==7.1.1->-r requirements.txt (line 11)) (2.0.1)\n",
      "Requirement already satisfied: iniconfig in /root/.local/lib/python3.7/site-packages (from pytest==7.1.1->-r requirements.txt (line 11)) (2.0.0)\n",
      "Requirement already satisfied: pytz>=2017.3 in /opt/conda/lib/python3.7/site-packages (from pandas==1.3.5->-r requirements.txt (line 12)) (2019.3)\n",
      "Requirement already satisfied: scipy>=1.0 in /opt/conda/lib/python3.7/site-packages (from seaborn==0.11.2->-r requirements.txt (line 13)) (1.7.1)\n",
      "Requirement already satisfied: qtconsole in /root/.local/lib/python3.7/site-packages (from jupyter==1.0.0->-r requirements.txt (line 14)) (5.4.4)\n",
      "Requirement already satisfied: jupyter-console in /root/.local/lib/python3.7/site-packages (from jupyter==1.0.0->-r requirements.txt (line 14)) (6.6.3)\n",
      "Requirement already satisfied: nbconvert in /opt/conda/lib/python3.7/site-packages (from jupyter==1.0.0->-r requirements.txt (line 14)) (5.6.1)\n",
      "Requirement already satisfied: notebook in /opt/conda/lib/python3.7/site-packages (from jupyter==1.0.0->-r requirements.txt (line 14)) (5.7.4)\n",
      "Requirement already satisfied: jupyter-client in /opt/conda/lib/python3.7/site-packages (from ipykernel==4.10.0->-r requirements.txt (line 15)) (6.0.0)\n",
      "Requirement already satisfied: six in /opt/conda/lib/python3.7/site-packages (from cycler>=0.10->matplotlib==3.4.3->-r requirements.txt (line 2)) (1.16.0)\n",
      "Requirement already satisfied: setuptools in /opt/conda/lib/python3.7/site-packages (from kiwisolver>=1.0.1->matplotlib==3.4.3->-r requirements.txt (line 2)) (45.2.0.post20200209)\n",
      "Requirement already satisfied: MarkupSafe>=0.23 in /opt/conda/lib/python3.7/site-packages (from Jinja2>=2.7->bokeh==2.1.1->-r requirements.txt (line 5)) (1.1.1)\n",
      "Requirement already satisfied: chardet<4,>=3.0.2 in /opt/conda/lib/python3.7/site-packages (from requests->torchvision==0.12.0->-r requirements.txt (line 7)) (3.0.4)\n",
      "Requirement already satisfied: idna<3,>=2.5 in /opt/conda/lib/python3.7/site-packages (from requests->torchvision==0.12.0->-r requirements.txt (line 7)) (2.9)\n",
      "Requirement already satisfied: urllib3!=1.25.0,!=1.25.1,<1.26,>=1.21.1 in /opt/conda/lib/python3.7/site-packages (from requests->torchvision==0.12.0->-r requirements.txt (line 7)) (1.25.7)\n",
      "Requirement already satisfied: certifi>=2017.4.17 in /opt/conda/lib/python3.7/site-packages (from requests->torchvision==0.12.0->-r requirements.txt (line 7)) (2019.11.28)\n",
      "Requirement already satisfied: decorator in /opt/conda/lib/python3.7/site-packages (from traitlets>=4.3.1->ipywidgets==7.7.0->-r requirements.txt (line 9)) (4.4.2)\n",
      "Requirement already satisfied: jupyter-core in /opt/conda/lib/python3.7/site-packages (from nbformat>=4.2.0->ipywidgets==7.7.0->-r requirements.txt (line 9)) (4.6.3)\n",
      "Requirement already satisfied: jsonschema!=2.5.0,>=2.4 in /opt/conda/lib/python3.7/site-packages (from nbformat>=4.2.0->ipywidgets==7.7.0->-r requirements.txt (line 9)) (3.2.0)\n",
      "Requirement already satisfied: prompt-toolkit!=3.0.0,!=3.0.1,<3.1.0,>=2.0.0 in /opt/conda/lib/python3.7/site-packages (from ipython>=4.0.0; python_version >= \"3.3\"->ipywidgets==7.7.0->-r requirements.txt (line 9)) (3.0.3)\n",
      "Requirement already satisfied: jedi>=0.10 in /opt/conda/lib/python3.7/site-packages (from ipython>=4.0.0; python_version >= \"3.3\"->ipywidgets==7.7.0->-r requirements.txt (line 9)) (0.16.0)\n",
      "Requirement already satisfied: pickleshare in /opt/conda/lib/python3.7/site-packages (from ipython>=4.0.0; python_version >= \"3.3\"->ipywidgets==7.7.0->-r requirements.txt (line 9)) (0.7.5)\n",
      "Requirement already satisfied: backcall in /opt/conda/lib/python3.7/site-packages (from ipython>=4.0.0; python_version >= \"3.3\"->ipywidgets==7.7.0->-r requirements.txt (line 9)) (0.1.0)\n",
      "Requirement already satisfied: pexpect; sys_platform != \"win32\" in /opt/conda/lib/python3.7/site-packages (from ipython>=4.0.0; python_version >= \"3.3\"->ipywidgets==7.7.0->-r requirements.txt (line 9)) (4.8.0)\n",
      "Requirement already satisfied: pygments in /opt/conda/lib/python3.7/site-packages (from ipython>=4.0.0; python_version >= \"3.3\"->ipywidgets==7.7.0->-r requirements.txt (line 9)) (2.5.2)\n",
      "Requirement already satisfied: zipp>=0.5 in /opt/conda/lib/python3.7/site-packages (from importlib-metadata>=0.12; python_version < \"3.8\"->pytest==7.1.1->-r requirements.txt (line 11)) (3.0.0)\n",
      "Requirement already satisfied: pyzmq>=17.1 in /opt/conda/lib/python3.7/site-packages (from qtconsole->jupyter==1.0.0->-r requirements.txt (line 14)) (19.0.0)\n",
      "Requirement already satisfied: qtpy>=2.4.0 in /root/.local/lib/python3.7/site-packages (from qtconsole->jupyter==1.0.0->-r requirements.txt (line 14)) (2.4.1)\n",
      "Requirement already satisfied: pandocfilters>=1.4.1 in /opt/conda/lib/python3.7/site-packages (from nbconvert->jupyter==1.0.0->-r requirements.txt (line 14)) (1.4.2)\n",
      "Requirement already satisfied: entrypoints>=0.2.2 in /opt/conda/lib/python3.7/site-packages (from nbconvert->jupyter==1.0.0->-r requirements.txt (line 14)) (0.3)\n",
      "Requirement already satisfied: mistune<2,>=0.8.1 in /opt/conda/lib/python3.7/site-packages (from nbconvert->jupyter==1.0.0->-r requirements.txt (line 14)) (0.8.4)\n",
      "Requirement already satisfied: defusedxml in /opt/conda/lib/python3.7/site-packages (from nbconvert->jupyter==1.0.0->-r requirements.txt (line 14)) (0.6.0)\n",
      "Requirement already satisfied: bleach in /opt/conda/lib/python3.7/site-packages (from nbconvert->jupyter==1.0.0->-r requirements.txt (line 14)) (3.1.1)\n",
      "Requirement already satisfied: testpath in /opt/conda/lib/python3.7/site-packages (from nbconvert->jupyter==1.0.0->-r requirements.txt (line 14)) (0.4.4)\n",
      "Requirement already satisfied: Send2Trash in /opt/conda/lib/python3.7/site-packages (from notebook->jupyter==1.0.0->-r requirements.txt (line 14)) (1.5.0)\n",
      "Requirement already satisfied: prometheus-client in /opt/conda/lib/python3.7/site-packages (from notebook->jupyter==1.0.0->-r requirements.txt (line 14)) (0.7.1)\n",
      "Requirement already satisfied: terminado>=0.8.1 in /opt/conda/lib/python3.7/site-packages (from notebook->jupyter==1.0.0->-r requirements.txt (line 14)) (0.8.3)\n",
      "Requirement already satisfied: pyrsistent>=0.14.0 in /opt/conda/lib/python3.7/site-packages (from jsonschema!=2.5.0,>=2.4->nbformat>=4.2.0->ipywidgets==7.7.0->-r requirements.txt (line 9)) (0.15.7)\n",
      "Requirement already satisfied: wcwidth in /opt/conda/lib/python3.7/site-packages (from prompt-toolkit!=3.0.0,!=3.0.1,<3.1.0,>=2.0.0->ipython>=4.0.0; python_version >= \"3.3\"->ipywidgets==7.7.0->-r requirements.txt (line 9)) (0.1.8)\n",
      "Requirement already satisfied: parso>=0.5.2 in /opt/conda/lib/python3.7/site-packages (from jedi>=0.10->ipython>=4.0.0; python_version >= \"3.3\"->ipywidgets==7.7.0->-r requirements.txt (line 9)) (0.6.1)\n",
      "Requirement already satisfied: ptyprocess>=0.5 in /opt/conda/lib/python3.7/site-packages (from pexpect; sys_platform != \"win32\"->ipython>=4.0.0; python_version >= \"3.3\"->ipywidgets==7.7.0->-r requirements.txt (line 9)) (0.6.0)\n",
      "Requirement already satisfied: webencodings in /opt/conda/lib/python3.7/site-packages (from bleach->nbconvert->jupyter==1.0.0->-r requirements.txt (line 14)) (0.5.1)\n"
     ]
    }
   ],
   "source": [
    "# Install requirements\n",
    "!python -m pip install -r requirements.txt"
   ]
  },
  {
   "cell_type": "markdown",
   "metadata": {},
   "source": [
    "## Imports"
   ]
  },
  {
   "cell_type": "code",
   "execution_count": 13,
   "metadata": {},
   "outputs": [],
   "source": [
    "## This cell contains the essential imports you will need – DO NOT CHANGE THE CONTENTS! ##\n",
    "import torch\n",
    "import torch.nn as nn\n",
    "import torch.nn.functional as F\n",
    "import torch.optim as optim\n",
    "import torchvision\n",
    "import torchvision.transforms as transforms\n",
    "import matplotlib.pyplot as plt\n",
    "import numpy as np"
   ]
  },
  {
   "cell_type": "code",
   "execution_count": 14,
   "metadata": {},
   "outputs": [
    {
     "name": "stdout",
     "output_type": "stream",
     "text": [
      "Python version: sys.version_info(major=3, minor=7, micro=6, releaselevel='final', serial=0)\n",
      "Numpy version: 1.21.2\n",
      "PyTorch version: 1.11.0+cu102\n"
     ]
    }
   ],
   "source": [
    "import sys\n",
    "print(f'Python version: {sys.version_info}')\n",
    "print(f'Numpy version: {np.__version__}')\n",
    "print(f'PyTorch version: {torch.__version__}')"
   ]
  },
  {
   "cell_type": "code",
   "execution_count": 15,
   "metadata": {},
   "outputs": [
    {
     "data": {
      "text/plain": [
       "<torch._C.Generator at 0x7f5e867abb70>"
      ]
     },
     "execution_count": 15,
     "metadata": {},
     "output_type": "execute_result"
    }
   ],
   "source": [
    "# Set seed so that results are reproducible\n",
    "import random\n",
    "\n",
    "seed = 43\n",
    "random.seed(seed)\n",
    "np.random.seed(seed)\n",
    "torch.manual_seed(seed)"
   ]
  },
  {
   "cell_type": "code",
   "execution_count": 16,
   "metadata": {},
   "outputs": [
    {
     "data": {
      "text/plain": [
       "device(type='cpu')"
      ]
     },
     "execution_count": 16,
     "metadata": {},
     "output_type": "execute_result"
    }
   ],
   "source": [
    "device = torch.device('cuda' if torch.cuda.is_available() else 'cpu')\n",
    "device"
   ]
  },
  {
   "cell_type": "markdown",
   "metadata": {},
   "source": [
    "## Load the Dataset\n",
    "\n",
    "Specify your transforms as a list if you intend to .\n",
    "The transforms module is already loaded as `transforms`.\n",
    "\n",
    "MNIST is fortunately included in the torchvision module.\n",
    "Then, you can create your dataset using the `MNIST` object from `torchvision.datasets` ([the documentation is available here](https://pytorch.org/vision/stable/datasets.html#mnist)).\n",
    "Make sure to specify `download=True`! \n",
    "\n",
    "Once your dataset is created, you'll also need to define a `DataLoader` from the `torch.utils.data` module for both the train and the test set."
   ]
  },
  {
   "cell_type": "code",
   "execution_count": 17,
   "metadata": {},
   "outputs": [],
   "source": [
    "from torchvision import datasets\n",
    "from torch.utils.data import DataLoader\n",
    "batch_size = 32\n",
    "# Define transforms\n",
    "transform = transforms.ToTensor()\n",
    "\n",
    "# Create training set and define training dataloader\n",
    "training_pre_normalization_data = datasets.MNIST(root='data/raw', train=True, transform=transform, download=True)\n",
    "training_pre_normalization_loader = DataLoader(training_pre_normalization_data, batch_size=batch_size, shuffle=True)"
   ]
  },
  {
   "cell_type": "code",
   "execution_count": 18,
   "metadata": {},
   "outputs": [
    {
     "data": {
      "text/plain": [
       "torch.Size([1, 28, 28, 60000])"
      ]
     },
     "execution_count": 18,
     "metadata": {},
     "output_type": "execute_result"
    }
   ],
   "source": [
    "images = torch.stack([image for image, label in training_pre_normalization_data], dim=3)\n",
    "\n",
    "# Get the shape of the image\n",
    "images.shape"
   ]
  },
  {
   "cell_type": "code",
   "execution_count": 19,
   "metadata": {},
   "outputs": [
    {
     "name": "stdout",
     "output_type": "stream",
     "text": [
      "Global mean on training dataset is tensor([0.1307])\n",
      "Global standard deviation on training dataset is tensor([0.3081])\n"
     ]
    }
   ],
   "source": [
    "# compute mean and std per channel\n",
    "mean = images.view(1,-1).mean(dim=1) \n",
    "std = images.view(1,-1).std(dim=1)\n",
    "print(f'Global mean on training dataset is {mean}')\n",
    "print(f'Global standard deviation on training dataset is {std}')"
   ]
  },
  {
   "cell_type": "code",
   "execution_count": 20,
   "metadata": {},
   "outputs": [],
   "source": [
    "validation_split = 0.2\n",
    "\n",
    "# Define transforms\n",
    "transform = transforms.Compose([transforms.ToTensor(),\n",
    "                               transforms.Normalize((0.1307, ), (0.3081))])\n",
    "\n",
    "# Get dataset to split into training and validation set\n",
    "dataset = datasets.MNIST(root='data/normalized', train=True, transform=transform, download=True)\n",
    "\n",
    "train_size = int(len(dataset) * (1 - validation_split))\n",
    "val_size = int(len(dataset) * validation_split)\n",
    "\n",
    "training_data, validation_data = torch.utils.data.random_split(dataset, [train_size, val_size], \n",
    "                                                     generator=torch.Generator().manual_seed(seed))\n",
    "training_loader = DataLoader(training_data, batch_size=batch_size, shuffle=True)\n",
    "validation_loader = DataLoader(validation_data, batch_size=batch_size, shuffle=True)\n",
    "\n",
    "# Create test set and define test dataloader\n",
    "testing_data = datasets.MNIST(root='data/normalized', train=False, transform=transform, download=True)\n",
    "testing_loader = DataLoader(testing_data, batch_size=batch_size)"
   ]
  },
  {
   "cell_type": "code",
   "execution_count": 21,
   "metadata": {},
   "outputs": [
    {
     "name": "stdout",
     "output_type": "stream",
     "text": [
      "Training set:\n",
      "Number of samples: 48000\n",
      "Shape of train image: torch.Size([1, 28, 28])\n",
      "\n",
      "Validation set:\n",
      "Number of samples: 12000\n",
      "Shape of train image: torch.Size([1, 28, 28])\n",
      "\n",
      "Testing set:\n",
      "Number of samples: 10000\n",
      "Shape of train image: torch.Size([1, 28, 28])\n"
     ]
    }
   ],
   "source": [
    "print('Training set:')\n",
    "print(f'Number of samples: {len(training_data)}')\n",
    "print(f'Shape of train image: {training_data[0][0].shape}')\n",
    "\n",
    "print('\\nValidation set:')\n",
    "print(f'Number of samples: {len(validation_data)}')\n",
    "print(f'Shape of train image: {validation_data[0][0].shape}')\n",
    "\n",
    "print('\\nTesting set:')\n",
    "print(f'Number of samples: {len(testing_data)}')\n",
    "print(f'Shape of train image: {testing_data[0][0].shape}')"
   ]
  },
  {
   "cell_type": "markdown",
   "metadata": {},
   "source": [
    "## Justify your preprocessing\n",
    "\n",
    "In your own words, why did you choose the transforms you chose? If you didn't use any preprocessing steps, why not?"
   ]
  },
  {
   "cell_type": "markdown",
   "metadata": {},
   "source": [
    "**DOUBLE CLICK THIS CELL TO MODIFY**\n",
    "ToTensor() transforms an image into a tensor. Then I normalize the data as it can help to stabilize training. "
   ]
  },
  {
   "cell_type": "markdown",
   "metadata": {},
   "source": [
    "## Explore the Dataset\n",
    "Using matplotlib, numpy, and torch, explore the dimensions of your data.\n",
    "\n",
    "You can view images using the `show5` function defined below – it takes a data loader as an argument.\n",
    "Remember that normalized images will look really weird to you! You may want to try changing your transforms to view images.\n",
    "Typically using no transforms other than `toTensor()` works well for viewing – but not as well for training your network.\n",
    "If `show5` doesn't work, go back and check your code for creating your data loaders and your training/test sets."
   ]
  },
  {
   "cell_type": "code",
   "execution_count": 22,
   "metadata": {},
   "outputs": [],
   "source": [
    "## This cell contains a function for showing 5 images from a dataloader – DO NOT CHANGE THE CONTENTS! ##\n",
    "def show5(img_loader):\n",
    "    dataiter = iter(img_loader)\n",
    "    \n",
    "    batch = next(dataiter)\n",
    "    labels = batch[1][0:5]\n",
    "    images = batch[0][0:5]\n",
    "    for i in range(5):\n",
    "        print(int(labels[i].detach()))\n",
    "    \n",
    "        image = images[i].numpy()\n",
    "        plt.imshow(image.T.squeeze().T)\n",
    "        plt.show()"
   ]
  },
  {
   "cell_type": "code",
   "execution_count": 23,
   "metadata": {},
   "outputs": [
    {
     "name": "stdout",
     "output_type": "stream",
     "text": [
      "2\n"
     ]
    },
    {
     "data": {
      "image/png": "[encoded data removed]",
      "text/plain": [
       "<Figure size 432x288 with 1 Axes>"
      ]
     },
     "metadata": {
      "needs_background": "light"
     },
     "output_type": "display_data"
    },
    {
     "name": "stdout",
     "output_type": "stream",
     "text": [
      "3\n"
     ]
    },
    {
     "data": {
      "image/png": "[encoded data removed]",
      "text/plain": [
       "<Figure size 432x288 with 1 Axes>"
      ]
     },
     "metadata": {
      "needs_background": "light"
     },
     "output_type": "display_data"
    },
    {
     "name": "stdout",
     "output_type": "stream",
     "text": [
      "0\n"
     ]
    },
    {
     "data": {
      "image/png": "[encoded data removed]",
      "text/plain": [
       "<Figure size 432x288 with 1 Axes>"
      ]
     },
     "metadata": {
      "needs_background": "light"
     },
     "output_type": "display_data"
    },
    {
     "name": "stdout",
     "output_type": "stream",
     "text": [
      "8\n"
     ]
    },
    {
     "data": {
      "image/png": "[encoded data removed]",
      "text/plain": [
       "<Figure size 432x288 with 1 Axes>"
      ]
     },
     "metadata": {
      "needs_background": "light"
     },
     "output_type": "display_data"
    },
    {
     "name": "stdout",
     "output_type": "stream",
     "text": [
      "1\n"
     ]
    },
    {
     "data": {
      "image/png": "[encoded data removed]",
      "text/plain": [
       "<Figure size 432x288 with 1 Axes>"
      ]
     },
     "metadata": {
      "needs_background": "light"
     },
     "output_type": "display_data"
    }
   ],
   "source": [
    "# Explore data\n",
    "show5(training_pre_normalization_loader)"
   ]
  },
  {
   "cell_type": "code",
   "execution_count": 24,
   "metadata": {},
   "outputs": [
    {
     "name": "stdout",
     "output_type": "stream",
     "text": [
      "8\n"
     ]
    },
    {
     "data": {
      "image/png": "[encoded data removed]",
      "text/plain": [
       "<Figure size 432x288 with 1 Axes>"
      ]
     },
     "metadata": {
      "needs_background": "light"
     },
     "output_type": "display_data"
    },
    {
     "name": "stdout",
     "output_type": "stream",
     "text": [
      "4\n"
     ]
    },
    {
     "data": {
      "image/png": "[encoded data removed]",
      "text/plain": [
       "<Figure size 432x288 with 1 Axes>"
      ]
     },
     "metadata": {
      "needs_background": "light"
     },
     "output_type": "display_data"
    },
    {
     "name": "stdout",
     "output_type": "stream",
     "text": [
      "9\n"
     ]
    },
    {
     "data": {
      "image/png": "[encoded data removed]",
      "text/plain": [
       "<Figure size 432x288 with 1 Axes>"
      ]
     },
     "metadata": {
      "needs_background": "light"
     },
     "output_type": "display_data"
    },
    {
     "name": "stdout",
     "output_type": "stream",
     "text": [
      "5\n"
     ]
    },
    {
     "data": {
      "image/png": "[encoded data removed]",
      "text/plain": [
       "<Figure size 432x288 with 1 Axes>"
      ]
     },
     "metadata": {
      "needs_background": "light"
     },
     "output_type": "display_data"
    },
    {
     "name": "stdout",
     "output_type": "stream",
     "text": [
      "4\n"
     ]
    },
    {
     "data": {
      "image/png": "[encoded data removed]",
      "text/plain": [
       "<Figure size 432x288 with 1 Axes>"
      ]
     },
     "metadata": {
      "needs_background": "light"
     },
     "output_type": "display_data"
    }
   ],
   "source": [
    "# Explore data\n",
    "show5(training_loader)"
   ]
  },
  {
   "cell_type": "markdown",
   "metadata": {},
   "source": [
    "## Build your Neural Network\n",
    "Using the layers in `torch.nn` (which has been imported as `nn`) and the `torch.nn.functional` module (imported as `F`), construct a neural network based on the parameters of the dataset.\n",
    "Use any architecture you like. \n",
    "\n",
    "*Note*: If you did not flatten your tensors in your transforms or as part of your preprocessing and you are using only `Linear` layers, make sure to use the `Flatten` layer in your network!"
   ]
  },
  {
   "cell_type": "code",
   "execution_count": 25,
   "metadata": {},
   "outputs": [
    {
     "data": {
      "text/plain": [
       "MNISTNNetwork(\n",
       "  (layer1): Linear(in_features=784, out_features=128, bias=True)\n",
       "  (layer2): Linear(in_features=128, out_features=64, bias=True)\n",
       "  (layer3): Linear(in_features=64, out_features=10, bias=True)\n",
       ")"
      ]
     },
     "execution_count": 25,
     "metadata": {},
     "output_type": "execute_result"
    }
   ],
   "source": [
    "class MNISTNNetwork(nn.Module):\n",
    "    def __init__(self):\n",
    "        super().__init__()\n",
    "        self.activation = F.relu\n",
    "        self.layer1 = nn.Linear(28 * 28, 128)\n",
    "        self.layer2 = nn.Linear(128, 64)\n",
    "        self.layer3 = nn.Linear(64, 10)\n",
    "    \n",
    "    def forward(self, x):\n",
    "        x = torch.flatten(x, 1)\n",
    "        x = self.activation(self.layer1(x))\n",
    "        x = self.activation(self.layer2(x))\n",
    "        x = self.layer3(x)\n",
    "        \n",
    "        return (x)\n",
    "    \n",
    "net = MNISTNNetwork()\n",
    "# pass model to GPU if available\n",
    "net.to(device)"
   ]
  },
  {
   "cell_type": "markdown",
   "metadata": {},
   "source": [
    "Specify a loss function and an optimizer, and instantiate the model.\n",
    "\n",
    "If you use a less common loss function, please note why you chose that loss function in a comment."
   ]
  },
  {
   "cell_type": "code",
   "execution_count": 26,
   "metadata": {},
   "outputs": [],
   "source": [
    "optimizer = optim.Adam(net.parameters(), lr=0.01)\n",
    "criterion = nn.CrossEntropyLoss()"
   ]
  },
  {
   "cell_type": "markdown",
   "metadata": {},
   "source": [
    "Not using LogSoftmax as an output activation function, since nn.CrossEntropyLoss is used as loss function. Documentation of nn.CrossEntropyLoss states that it is equivalent to LogSoftmax. nn.CrossEntropyLoss is used for multi-class classification problems. It aims to minimize loss which is the different between predicted probability class and true class."
   ]
  },
  {
   "cell_type": "markdown",
   "metadata": {},
   "source": [
    "## Running your Neural Network\n",
    "Use whatever method you like to train your neural network, and ensure you record the average loss at each epoch. \n",
    "Don't forget to use `torch.device()` and the `.to()` method for both your model and your data if you are using GPU!\n",
    "\n",
    "If you want to print your loss **during** each epoch, you can use the `enumerate` function and print the loss after a set number of batches. 250 batches works well for most people!"
   ]
  },
  {
   "cell_type": "code",
   "execution_count": 27,
   "metadata": {},
   "outputs": [],
   "source": [
    "def trainNN(model, data_loader, device, optimizer, criterion):\n",
    "    model.train()\n",
    "    train_correct = 0\n",
    "    train_loss = 0\n",
    "    data_size = 0\n",
    "    \n",
    "    for i, data in enumerate(data_loader):\n",
    "        inputs, labels = data\n",
    "        # pass data to GPU if available\n",
    "        inputs = inputs.to(device)\n",
    "        labels = labels.to(device)\n",
    "        \n",
    "        optimizer.zero_grad()\n",
    "        outputs = model(inputs)\n",
    "        loss = criterion(outputs, labels)\n",
    "        # calculate gradient of loss\n",
    "        loss.backward()\n",
    "        # update step\n",
    "        optimizer.step()\n",
    "        \n",
    "        # get accuracy & loss\n",
    "        values, indices = torch.max(outputs.data, 1)\n",
    "        train_correct += (indices == labels).sum().item()\n",
    "        train_loss += loss.item()\n",
    "        data_size += len(inputs)\n",
    "    \n",
    "    return train_correct/data_size, train_loss/data_size"
   ]
  },
  {
   "cell_type": "code",
   "execution_count": 28,
   "metadata": {},
   "outputs": [],
   "source": [
    "def evaluateNN(model, data_loader, criterion):\n",
    "    model.eval()\n",
    "    val_correct = 0\n",
    "    val_loss = 0\n",
    "    data_size = 0\n",
    "    \n",
    "    for i, data in enumerate(data_loader):\n",
    "        inputs, labels = data\n",
    "        # pass data to GPU if available\n",
    "        inputs = inputs.to(device)\n",
    "        labels = labels.to(device)\n",
    "        \n",
    "        outputs = model(inputs)\n",
    "        loss = criterion(outputs, labels)\n",
    "        \n",
    "        # get accuracy & loss\n",
    "        values, indices = torch.max(outputs.data, 1)\n",
    "        val_correct += (indices == labels).sum().item()\n",
    "        val_loss += loss.item()\n",
    "        data_size += len(inputs)\n",
    "        \n",
    "    return val_correct/data_size, val_loss/data_size"
   ]
  },
  {
   "cell_type": "code",
   "execution_count": 29,
   "metadata": {},
   "outputs": [
    {
     "name": "stdout",
     "output_type": "stream",
     "text": [
      "Epoch 1 training accuracy: 90.30%, validation accuracy: 93.27%,     training loss: 0.01060, validation loss: 0.00844.\n",
      "Epoch 2 training accuracy: 93.60%, validation accuracy: 92.66%,     training loss: 0.00774, validation loss: 0.00993.\n",
      "Epoch 3 training accuracy: 94.27%, validation accuracy: 94.57%,     training loss: 0.00687, validation loss: 0.00715.\n",
      "Epoch 4 training accuracy: 95.11%, validation accuracy: 95.23%,     training loss: 0.00622, validation loss: 0.00735.\n",
      "Epoch 5 training accuracy: 95.06%, validation accuracy: 94.67%,     training loss: 0.00631, validation loss: 0.00750.\n",
      "Epoch 6 training accuracy: 95.51%, validation accuracy: 95.10%,     training loss: 0.00596, validation loss: 0.00692.\n",
      "Epoch 7 training accuracy: 95.67%, validation accuracy: 95.22%,     training loss: 0.00566, validation loss: 0.00781.\n",
      "Epoch 8 training accuracy: 96.02%, validation accuracy: 95.32%,     training loss: 0.00533, validation loss: 0.00708.\n",
      "Epoch 9 training accuracy: 96.00%, validation accuracy: 95.86%,     training loss: 0.00526, validation loss: 0.00662.\n",
      "Epoch 10 training accuracy: 95.79%, validation accuracy: 95.21%,     training loss: 0.00556, validation loss: 0.00708.\n"
     ]
    }
   ],
   "source": [
    "num_epochs = 10\n",
    "train_loss_history = list()\n",
    "train_accuracy_history = list()\n",
    "val_accuracy_history = list()\n",
    "val_loss_history = list()\n",
    "\n",
    "for epoch in range(num_epochs):\n",
    "    train_correct, train_loss = trainNN(net, training_loader, device, optimizer, criterion)\n",
    "    train_accuracy_history.append(train_correct)\n",
    "    train_loss_history.append(train_loss)\n",
    "    \n",
    "    val_correct, val_loss = evaluateNN(net, validation_loader, criterion)\n",
    "    val_accuracy_history.append(val_correct)\n",
    "    val_loss_history.append(val_loss)\n",
    "    \n",
    "    print(f'Epoch {epoch + 1} training accuracy: {train_correct*100:.2f}%, validation accuracy: {val_correct*100:.2f}%, \\\n",
    "    training loss: {train_loss:.5f}, validation loss: {val_loss:.5f}.')"
   ]
  },
  {
   "cell_type": "markdown",
   "metadata": {},
   "source": [
    "Plot the training loss (and validation loss/accuracy, if recorded)."
   ]
  },
  {
   "cell_type": "code",
   "execution_count": 30,
   "metadata": {},
   "outputs": [
    {
     "name": "stdout",
     "output_type": "stream",
     "text": [
      "\n",
      "\n",
      "\n",
      "\n",
      "\n"
     ]
    },
    {
     "data": {
      "image/png": "[encoded data removed]",
      "text/plain": [
       "<Figure size 576x576 with 2 Axes>"
      ]
     },
     "metadata": {
      "needs_background": "light"
     },
     "output_type": "display_data"
    }
   ],
   "source": [
    "def pltResults(train_accuracy_history, val_accuracy_history, train_loss_history, val_loss_history):\n",
    "    epochs_range = range(num_epochs)\n",
    "    \n",
    "    plt.figure(figsize=(8, 8))\n",
    "    plt.subplot(2, 1, 1)\n",
    "    plt.plot(epochs_range, train_accuracy_history, label = 'Training')\n",
    "    plt.plot(epochs_range, val_accuracy_history, label = 'Validation')\n",
    "    plt.xticks(epochs_range)\n",
    "    plt.legend()\n",
    "    plt.title('Training and validation accuracy')\n",
    "    plt.xlabel('Epochs')\n",
    "    plt.ylabel('Accuracy')\n",
    "\n",
    "    print('\\n\\n\\n\\n')\n",
    "\n",
    "    plt.subplot(2, 1, 2)\n",
    "    plt.plot(epochs_range, train_loss_history, label = 'Training')\n",
    "    plt.plot(epochs_range, val_loss_history, label = 'Validation')\n",
    "    plt.xticks(epochs_range)\n",
    "    plt.legend()\n",
    "    plt.title('Training and validation loss')\n",
    "    plt.xlabel('Epochs')\n",
    "    plt.ylabel('Loss')\n",
    "    \n",
    "    return (plt)\n",
    "\n",
    "plt = pltResults(train_accuracy_history, val_accuracy_history, train_loss_history, val_loss_history)\n",
    "plt.show()"
   ]
  },
  {
   "cell_type": "markdown",
   "metadata": {},
   "source": [
    "## Testing your model\n",
    "Using the previously created `DataLoader` for the test set, compute the percentage of correct predictions using the highest probability prediction. \n",
    "\n",
    "If your accuracy is over 90%, great work, but see if you can push a bit further! \n",
    "If your accuracy is under 90%, you'll need to make improvements.\n",
    "Go back and check your model architecture, loss function, and optimizer to make sure they're appropriate for an image classification task."
   ]
  },
  {
   "cell_type": "code",
   "execution_count": 31,
   "metadata": {},
   "outputs": [
    {
     "name": "stdout",
     "output_type": "stream",
     "text": [
      "Testing accuracy: 94.84%\n"
     ]
    }
   ],
   "source": [
    "val_correct, val_loss = evaluateNN(net, testing_loader, criterion)\n",
    "print(f'Testing accuracy: {val_correct*100:.2f}%')"
   ]
  },
  {
   "cell_type": "markdown",
   "metadata": {},
   "source": [
    "## Improving your model\n",
    "\n",
    "Once your model is done training, try tweaking your hyperparameters and training again below to improve your accuracy on the test set!"
   ]
  },
  {
   "cell_type": "code",
   "execution_count": 32,
   "metadata": {},
   "outputs": [
    {
     "data": {
      "text/plain": [
       "MNISTNNetworkImrpoved(\n",
       "  (layer1): Linear(in_features=784, out_features=128, bias=True)\n",
       "  (layer2): Linear(in_features=128, out_features=64, bias=True)\n",
       "  (layer3): Linear(in_features=64, out_features=10, bias=True)\n",
       "  (dropoutLayer): Dropout(p=0.25, inplace=False)\n",
       ")"
      ]
     },
     "execution_count": 32,
     "metadata": {},
     "output_type": "execute_result"
    }
   ],
   "source": [
    "## YOUR CODE HERE ##\n",
    "class MNISTNNetworkImrpoved(nn.Module):\n",
    "    def __init__(self):\n",
    "        super().__init__()\n",
    "        self.activation = F.relu\n",
    "        self.layer1 = nn.Linear(28 * 28, 128)\n",
    "        self.layer2 = nn.Linear(128, 64)\n",
    "        self.layer3 = nn.Linear(64, 10)\n",
    "        self.dropoutLayer = nn.Dropout(p=0.25)\n",
    "    \n",
    "    def forward(self, x):\n",
    "        x = torch.flatten(x, 1)\n",
    "        x = self.activation(self.layer1(x))\n",
    "        x = self.dropoutLayer(x)\n",
    "        x = self.activation(self.layer2(x))\n",
    "        x = self.layer3(x)\n",
    "        \n",
    "        return (x)\n",
    "    \n",
    "improve_net = MNISTNNetworkImrpoved()\n",
    "# pass model to GPU if available\n",
    "improve_net.to(device)"
   ]
  },
  {
   "cell_type": "code",
   "execution_count": 33,
   "metadata": {},
   "outputs": [
    {
     "name": "stdout",
     "output_type": "stream",
     "text": [
      "Epoch 1 training accuracy: 78.94%, validation accuracy: 90.68%,     training loss: 0.02330, validation loss: 0.00992.\n",
      "Epoch 2 training accuracy: 91.01%, validation accuracy: 93.05%,     training loss: 0.00953, validation loss: 0.00725.\n",
      "Epoch 3 training accuracy: 93.15%, validation accuracy: 94.41%,     training loss: 0.00735, validation loss: 0.00587.\n",
      "Epoch 4 training accuracy: 94.22%, validation accuracy: 95.09%,     training loss: 0.00613, validation loss: 0.00508.\n",
      "Epoch 5 training accuracy: 95.07%, validation accuracy: 95.70%,     training loss: 0.00524, validation loss: 0.00449.\n",
      "Epoch 6 training accuracy: 95.60%, validation accuracy: 95.95%,     training loss: 0.00468, validation loss: 0.00406.\n",
      "Epoch 7 training accuracy: 95.92%, validation accuracy: 96.31%,     training loss: 0.00425, validation loss: 0.00380.\n",
      "Epoch 8 training accuracy: 96.32%, validation accuracy: 96.48%,     training loss: 0.00392, validation loss: 0.00359.\n",
      "Epoch 9 training accuracy: 96.59%, validation accuracy: 96.83%,     training loss: 0.00356, validation loss: 0.00336.\n",
      "Epoch 10 training accuracy: 96.74%, validation accuracy: 96.97%,     training loss: 0.00338, validation loss: 0.00324.\n"
     ]
    }
   ],
   "source": [
    "optimizer = optim.SGD(improve_net.parameters(), lr=0.001, momentum=0.9)\n",
    "criterion = nn.CrossEntropyLoss()\n",
    "\n",
    "num_epochs = 10\n",
    "train_loss_history = list()\n",
    "train_accuracy_history = list()\n",
    "val_accuracy_history = list()\n",
    "val_loss_history = list()\n",
    "\n",
    "for epoch in range(num_epochs):\n",
    "    train_correct, train_loss = trainNN(improve_net, training_loader, device, optimizer, criterion)\n",
    "    train_accuracy_history.append(train_correct)\n",
    "    train_loss_history.append(train_loss)\n",
    "    \n",
    "    val_correct, val_loss = evaluateNN(improve_net, validation_loader, criterion)\n",
    "    val_accuracy_history.append(val_correct)\n",
    "    val_loss_history.append(val_loss)\n",
    "    \n",
    "    print(f'Epoch {epoch + 1} training accuracy: {train_correct*100:.2f}%, validation accuracy: {val_correct*100:.2f}%, \\\n",
    "    training loss: {train_loss:.5f}, validation loss: {val_loss:.5f}.')"
   ]
  },
  {
   "cell_type": "code",
   "execution_count": 34,
   "metadata": {},
   "outputs": [
    {
     "name": "stdout",
     "output_type": "stream",
     "text": [
      "\n",
      "\n",
      "\n",
      "\n",
      "\n"
     ]
    },
    {
     "data": {
      "image/png": "[encoded data removed]",
      "text/plain": [
       "<Figure size 576x576 with 2 Axes>"
      ]
     },
     "metadata": {
      "needs_background": "light"
     },
     "output_type": "display_data"
    }
   ],
   "source": [
    "plt = pltResults(train_accuracy_history, val_accuracy_history, train_loss_history, val_loss_history)\n",
    "plt.show()"
   ]
  },
  {
   "cell_type": "code",
   "execution_count": 35,
   "metadata": {},
   "outputs": [
    {
     "name": "stdout",
     "output_type": "stream",
     "text": [
      "Testing accuracy: 97.08%\n"
     ]
    }
   ],
   "source": [
    "test_correct, test_loss = evaluateNN(improve_net, testing_loader, criterion)\n",
    "print(f'Testing accuracy: {test_correct*100:.2f}%')"
   ]
  },
  {
   "cell_type": "markdown",
   "metadata": {},
   "source": [
    "## Saving your model\n",
    "Using `torch.save`, save your model for future loading."
   ]
  },
  {
   "cell_type": "code",
   "execution_count": 36,
   "metadata": {},
   "outputs": [],
   "source": [
    "# Save the model\n",
    "torch.save(improve_net.state_dict(), 'model.pth')"
   ]
  },
  {
   "cell_type": "code",
   "execution_count": 37,
   "metadata": {},
   "outputs": [
    {
     "data": {
      "text/plain": [
       "OrderedDict([('layer1.weight',\n",
       "              tensor([[ 0.0288,  0.0168,  0.0019,  ...,  0.0141, -0.0127,  0.0360],\n",
       "                      [ 0.0090,  0.0247,  0.0142,  ..., -0.0290,  0.0252,  0.0348],\n",
       "                      [ 0.0257,  0.0189,  0.0184,  ...,  0.0032, -0.0046,  0.0233],\n",
       "                      ...,\n",
       "                      [-0.0043, -0.0123, -0.0040,  ..., -0.0209, -0.0149, -0.0221],\n",
       "                      [ 0.0252, -0.0064,  0.0354,  ...,  0.0218,  0.0206, -0.0336],\n",
       "                      [ 0.0312,  0.0220, -0.0098,  ..., -0.0009, -0.0014, -0.0119]])),\n",
       "             ('layer1.bias',\n",
       "              tensor([-0.0310,  0.0096, -0.0215, -0.0122, -0.0034, -0.0010, -0.0130,  0.0108,\n",
       "                       0.0214, -0.0241, -0.0343,  0.0205,  0.0181,  0.0113, -0.0235, -0.0116,\n",
       "                       0.0019, -0.0128,  0.0091, -0.0007, -0.0177, -0.0261, -0.0163, -0.0229,\n",
       "                      -0.0082, -0.0158, -0.0285,  0.0193,  0.0085, -0.0251,  0.0239,  0.0132,\n",
       "                       0.0065,  0.0041, -0.0158, -0.0142, -0.0046, -0.0261,  0.0012, -0.0150,\n",
       "                       0.0045, -0.0233,  0.0241, -0.0161,  0.0240,  0.0151, -0.0275,  0.0298,\n",
       "                      -0.0082, -0.0240, -0.0063, -0.0156,  0.0192, -0.0468,  0.0263, -0.0040,\n",
       "                       0.0215,  0.0375,  0.0345, -0.0073,  0.0189, -0.0270, -0.0275,  0.0309,\n",
       "                      -0.0168,  0.0011,  0.0200,  0.0267, -0.0082,  0.0235,  0.0049,  0.0318,\n",
       "                      -0.0290,  0.0151,  0.0253, -0.0048,  0.0212, -0.0358,  0.0341,  0.0201,\n",
       "                       0.0141,  0.0229, -0.0338, -0.0068,  0.0158, -0.0044,  0.0187,  0.0042,\n",
       "                      -0.0247, -0.0178, -0.0294,  0.0242,  0.0081, -0.0327, -0.0046,  0.0255,\n",
       "                      -0.0021, -0.0101, -0.0097,  0.0195, -0.0068, -0.0031, -0.0023, -0.0045,\n",
       "                      -0.0388,  0.0025, -0.0246, -0.0313,  0.0265,  0.0259, -0.0057,  0.0404,\n",
       "                       0.0150,  0.0010,  0.0117,  0.0297,  0.0063,  0.0377,  0.0021, -0.0271,\n",
       "                      -0.0546,  0.0044,  0.0090, -0.0235, -0.0326, -0.0105,  0.0041, -0.0050])),\n",
       "             ('layer2.weight',\n",
       "              tensor([[-0.1004, -0.0254,  0.0547,  ...,  0.0222,  0.0050,  0.0930],\n",
       "                      [-0.0682,  0.0290, -0.0335,  ..., -0.0424,  0.0471,  0.1194],\n",
       "                      [-0.0200, -0.0076, -0.1053,  ..., -0.0682, -0.0902,  0.1341],\n",
       "                      ...,\n",
       "                      [-0.0160,  0.1387,  0.0908,  ...,  0.0838, -0.0360,  0.0985],\n",
       "                      [-0.0006,  0.0117,  0.0294,  ...,  0.0662,  0.0884,  0.0259],\n",
       "                      [ 0.0534, -0.0514, -0.0289,  ...,  0.0722,  0.0787,  0.0629]])),\n",
       "             ('layer2.bias',\n",
       "              tensor([ 0.1277,  0.0805, -0.0598, -0.0606,  0.0440, -0.0525, -0.0758, -0.0340,\n",
       "                       0.0312, -0.0030,  0.0614, -0.0404,  0.0703,  0.1171,  0.0697,  0.0516,\n",
       "                       0.0375,  0.0665,  0.0892, -0.0457,  0.0062,  0.0161,  0.0051, -0.0598,\n",
       "                      -0.0154,  0.0360,  0.1474,  0.0422,  0.0574, -0.0182, -0.0194, -0.0678,\n",
       "                       0.1207, -0.0072,  0.0945,  0.0262, -0.0529,  0.0160,  0.0398, -0.0046,\n",
       "                      -0.0405,  0.0847,  0.0044, -0.0322, -0.0681, -0.0006,  0.1014,  0.0883,\n",
       "                       0.0112,  0.1429, -0.0143,  0.0164,  0.0093, -0.0264,  0.0247,  0.0864,\n",
       "                       0.0277, -0.0171, -0.0860, -0.0153,  0.0028,  0.0287, -0.0161,  0.1022])),\n",
       "             ('layer3.weight',\n",
       "              tensor([[-1.0070e-01,  1.7094e-01,  2.4304e-02, -1.0932e-01,  1.1613e-01,\n",
       "                        2.7288e-01,  9.6417e-02,  2.6444e-01,  2.2300e-01, -3.0082e-01,\n",
       "                       -1.2236e-01, -8.8296e-02, -1.3239e-01, -4.0699e-03, -3.6059e-02,\n",
       "                        7.6953e-02,  1.6853e-01,  3.3472e-02,  9.6213e-02,  9.2119e-02,\n",
       "                        2.9107e-01, -2.0811e-01,  1.2528e-01,  3.5797e-01, -1.4662e-01,\n",
       "                       -1.7848e-01,  1.1350e-02, -2.1276e-01,  4.0778e-02, -2.8360e-01,\n",
       "                        7.6721e-02,  4.5031e-02, -3.5051e-01, -8.5251e-03, -6.7951e-02,\n",
       "                       -1.8279e-01, -1.5445e-01, -1.2569e-01, -3.1884e-02,  9.3001e-02,\n",
       "                       -2.5518e-01, -3.1792e-01, -1.4287e-01, -2.9476e-01, -5.4541e-02,\n",
       "                        8.4617e-02, -9.1470e-02, -1.2291e-01,  9.4531e-02, -1.8700e-01,\n",
       "                       -1.8253e-02,  1.7833e-01, -3.0272e-01, -6.3186e-02,  3.0475e-01,\n",
       "                        2.7558e-01,  1.8473e-02,  2.2652e-01, -3.8560e-02,  8.1105e-02,\n",
       "                        3.0498e-01,  1.5590e-01, -1.5620e-01,  6.7119e-02],\n",
       "                      [-2.6466e-01, -9.4158e-02, -2.0630e-01,  3.4989e-02,  1.6005e-01,\n",
       "                       -6.4530e-02,  6.9204e-02, -1.7763e-01, -1.1611e-03, -2.6128e-01,\n",
       "                       -4.5665e-03,  4.5045e-02,  2.2140e-03, -1.7433e-01,  1.2379e-01,\n",
       "                       -2.1294e-03, -1.2495e-01,  5.8403e-02,  7.3890e-03, -1.0735e-01,\n",
       "                        2.5629e-02,  1.7476e-02, -2.7893e-01,  1.5465e-02,  9.9817e-02,\n",
       "                       -1.1320e-01, -1.9468e-01,  4.5027e-01, -9.1779e-02,  2.0425e-01,\n",
       "                       -1.3693e-01,  7.7367e-02,  1.0437e-01,  5.4466e-02,  4.2342e-02,\n",
       "                       -5.2210e-02,  3.1031e-02,  1.7306e-01, -8.2806e-02, -2.3390e-02,\n",
       "                        1.4183e-01,  1.9239e-01, -4.1156e-01,  5.7329e-01, -3.1772e-02,\n",
       "                        2.2924e-01, -3.6244e-02,  2.6279e-01, -1.6175e-01,  3.7307e-01,\n",
       "                       -7.2507e-02,  5.7894e-02, -1.4419e-01,  3.0564e-01, -2.2840e-01,\n",
       "                       -1.6757e-01, -6.3743e-02, -2.1777e-02,  3.2047e-02,  4.5279e-02,\n",
       "                        7.8111e-02,  1.3908e-01, -1.8832e-01, -1.5980e-01],\n",
       "                      [-3.0408e-01,  7.3933e-02,  1.6937e-01, -4.1644e-02, -1.2361e-01,\n",
       "                        3.3967e-01, -2.1608e-02,  2.5980e-01, -3.6863e-01, -8.9453e-03,\n",
       "                       -2.2825e-01,  3.6203e-01, -9.1132e-02, -1.3669e-01, -6.0650e-02,\n",
       "                       -3.7106e-01, -1.9309e-01,  9.8877e-02,  2.4115e-01, -1.9624e-02,\n",
       "                        2.3457e-01, -1.2741e-01,  4.8369e-01, -1.1740e-02,  1.3581e-01,\n",
       "                        7.6159e-02, -3.7183e-01,  4.9806e-02,  1.5748e-01, -2.2687e-01,\n",
       "                        2.8840e-01,  9.3233e-03,  3.2735e-01, -1.1251e-01, -2.6048e-02,\n",
       "                       -1.6185e-01, -9.0408e-02,  2.1344e-01,  1.3731e-01,  5.5477e-02,\n",
       "                        7.5713e-02,  2.2736e-01,  1.3321e-01,  2.0851e-01, -4.2230e-02,\n",
       "                        2.4445e-01, -7.5571e-02, -1.9990e-01,  2.5409e-01, -3.9712e-01,\n",
       "                        2.1920e-01, -1.1389e-01, -6.0055e-02, -1.2309e-01,  1.7744e-02,\n",
       "                       -1.1639e-01, -4.4872e-02, -1.5119e-01,  3.6302e-02, -3.5125e-01,\n",
       "                       -1.4803e-01,  5.4587e-02, -1.5280e-01,  5.9161e-02],\n",
       "                      [-2.7574e-01,  7.5579e-02, -1.4636e-01, -1.3387e-02,  1.2756e-02,\n",
       "                       -1.6689e-01,  7.5682e-02,  1.9589e-02,  2.4955e-02,  3.0528e-01,\n",
       "                       -3.7302e-02,  1.8268e-01, -5.4863e-02,  1.8405e-01, -6.6874e-02,\n",
       "                       -3.8453e-02,  7.3391e-03, -2.4647e-01, -1.6564e-01, -6.8855e-02,\n",
       "                        1.7656e-01,  2.7137e-01, -1.8740e-01, -1.4564e-01,  2.8289e-02,\n",
       "                       -7.9433e-02, -4.5198e-01, -2.7889e-01,  3.4895e-01,  3.2747e-01,\n",
       "                       -1.1643e-01, -6.5493e-02,  1.0085e-01,  4.0306e-02,  3.6441e-01,\n",
       "                       -1.3935e-02,  1.7404e-01,  2.5369e-01, -6.4252e-02,  1.0985e-01,\n",
       "                       -3.5330e-02,  8.9740e-02, -1.5004e-01,  4.4951e-02, -1.0450e-01,\n",
       "                       -1.3392e-01,  1.3306e-01, -1.3994e-01, -6.5333e-02, -2.1105e-01,\n",
       "                       -1.1662e-01,  5.2753e-02,  5.6482e-01, -2.6824e-01,  2.5432e-01,\n",
       "                       -2.8696e-01, -4.0809e-02,  9.3394e-02, -1.5608e-02,  3.7157e-01,\n",
       "                       -1.7100e-01, -1.2533e-01, -2.5259e-01, -6.1779e-02],\n",
       "                      [ 4.5814e-01,  3.7608e-02,  6.1492e-01,  7.9510e-03, -1.5555e-01,\n",
       "                        7.5423e-02, -3.9632e-02, -3.3255e-01, -2.0604e-01,  9.3213e-02,\n",
       "                        2.4613e-01, -4.6024e-02,  7.0772e-02,  3.5710e-01, -8.8959e-02,\n",
       "                       -1.2189e-01, -2.3832e-01,  5.8921e-02, -1.9800e-02,  2.5422e-01,\n",
       "                       -3.4528e-01, -1.7416e-01, -3.2196e-01,  1.0375e-02, -6.2908e-02,\n",
       "                        1.3620e-01,  3.9059e-01,  3.7140e-01, -2.3439e-02, -1.6195e-01,\n",
       "                        5.5219e-03, -5.4583e-02, -2.6501e-01, -1.0869e-02, -1.8855e-01,\n",
       "                        2.5396e-01,  3.0170e-02, -2.1325e-02, -2.4478e-02, -8.0200e-02,\n",
       "                       -2.1715e-01, -1.6701e-01, -1.8243e-02,  1.2123e-01, -1.0616e-02,\n",
       "                       -1.6792e-01,  2.1987e-01, -6.4981e-02, -1.4931e-01, -2.1909e-01,\n",
       "                       -1.0233e-01,  3.1270e-02,  6.2374e-02,  9.5647e-02, -2.4036e-01,\n",
       "                        1.3858e-01,  9.5124e-02, -2.5275e-02,  1.4056e-02, -6.9817e-02,\n",
       "                       -2.9114e-01, -2.3092e-01,  8.7653e-02,  2.6279e-01],\n",
       "                      [ 2.7530e-01,  1.4640e-01, -4.8524e-02,  1.1684e-01,  1.3648e-01,\n",
       "                       -3.1957e-01,  3.1413e-02,  4.4614e-01, -7.8365e-02, -3.4670e-01,\n",
       "                        2.7643e-01,  8.4878e-02, -1.0461e-01,  1.1394e-01, -2.4371e-01,\n",
       "                        1.6693e-01, -4.2219e-02,  2.3384e-01, -3.3179e-02, -1.6877e-01,\n",
       "                        2.4673e-01, -2.4139e-01, -1.3535e-01, -3.1053e-01, -8.9659e-02,\n",
       "                        5.8238e-02,  1.5021e-01, -2.9181e-01, -1.4850e-01,  1.9985e-01,\n",
       "                        8.6491e-02,  6.9210e-02,  1.9225e-01,  1.0937e-01,  1.7142e-01,\n",
       "                        7.1299e-02,  2.9105e-02, -2.2642e-01, -5.2030e-02,  2.2020e-02,\n",
       "                       -2.4052e-01,  2.9328e-01, -6.3531e-02, -4.2197e-01,  1.4725e-02,\n",
       "                        1.8415e-01,  2.1361e-02, -7.6757e-02, -2.7819e-01,  2.8407e-01,\n",
       "                        2.4159e-01, -1.0171e-01, -1.9005e-01, -8.6982e-02,  2.0302e-01,\n",
       "                       -3.1512e-01, -2.1868e-02,  3.3809e-02,  7.8510e-02,  4.4262e-01,\n",
       "                       -1.2183e-01, -9.6844e-02,  5.7173e-01,  1.3785e-01],\n",
       "                      [ 1.7795e-01,  1.3594e-01,  1.2166e-01, -3.0147e-02, -1.4206e-01,\n",
       "                       -1.2585e-01,  7.5603e-02, -2.2113e-01, -2.0166e-01, -4.7921e-01,\n",
       "                       -1.8470e-01,  1.6795e-01,  7.4569e-02, -1.6702e-01,  2.3033e-01,\n",
       "                        3.5661e-01,  4.3470e-01, -1.8334e-01,  9.6610e-02,  1.3267e-02,\n",
       "                       -5.4353e-02, -5.3799e-03,  1.4463e-01,  1.3360e-01,  2.9794e-01,\n",
       "                        1.4324e-01,  1.7429e-01, -5.4318e-02, -2.2076e-01, -1.3020e-01,\n",
       "                        2.9108e-01,  1.0958e-01,  1.8069e-01, -8.6886e-02, -1.7761e-01,\n",
       "                        2.4675e-01,  2.2377e-01,  2.3456e-02,  2.8938e-01, -1.1931e-01,\n",
       "                       -1.6322e-01, -6.7719e-02, -3.8204e-01, -4.1291e-02, -1.0232e-01,\n",
       "                       -1.4309e-01,  1.3906e-04, -1.7729e-01, -2.1989e-02,  4.5849e-02,\n",
       "                       -1.7684e-01,  5.1738e-02, -2.3711e-01, -2.0733e-02, -1.8706e-01,\n",
       "                        4.2693e-02,  4.9901e-02,  1.9790e-01,  7.2781e-02,  7.0349e-02,\n",
       "                        5.1741e-02, -1.1446e-01, -6.2423e-02,  6.2988e-02],\n",
       "                      [-2.9301e-02,  1.5588e-01, -8.6416e-02,  3.3380e-01, -2.8877e-02,\n",
       "                       -5.7655e-02,  1.2438e-01,  6.1004e-02, -1.3051e-01,  6.1842e-01,\n",
       "                       -4.5983e-02, -8.4625e-02, -2.8743e-01,  4.6878e-02, -1.2696e-01,\n",
       "                       -2.2480e-02,  2.8295e-02,  1.0341e-01,  9.8182e-02, -9.1078e-02,\n",
       "                       -2.6994e-01,  6.6106e-02, -7.9271e-02, -2.5334e-02,  9.1700e-02,\n",
       "                        1.1572e-01, -4.8822e-02, -2.1996e-02,  2.3687e-01,  4.5979e-02,\n",
       "                       -3.3590e-02, -1.0928e-01, -2.5251e-01, -4.2448e-02, -1.0295e-01,\n",
       "                       -3.6573e-01, -1.0764e-01,  3.7288e-01, -1.5730e-01, -1.5896e-01,\n",
       "                        4.7215e-01, -1.5336e-01,  1.2020e-02, -7.4451e-02, -2.1875e-02,\n",
       "                        4.1827e-01,  8.1673e-02, -5.5934e-02, -8.1327e-02, -9.2046e-02,\n",
       "                       -1.8869e-01, -8.6895e-02, -1.8576e-01,  6.2836e-02, -2.9183e-01,\n",
       "                       -2.0968e-01, -2.9994e-01,  1.4910e-01, -9.6079e-02, -3.0915e-01,\n",
       "                        4.5910e-01, -7.1005e-02,  1.4203e-01,  1.1844e-01],\n",
       "                      [ 1.8062e-01, -2.4831e-01, -2.7106e-01, -1.2921e-01,  1.9635e-01,\n",
       "                       -7.3075e-02, -1.0984e-01, -3.3704e-01,  3.1838e-01,  1.2922e-01,\n",
       "                       -3.1200e-01,  3.0111e-01, -4.6340e-02,  1.3031e-01,  1.3204e-01,\n",
       "                       -2.7037e-01, -6.7028e-02, -1.7200e-01, -1.4500e-01, -2.0637e-01,\n",
       "                        2.4037e-02,  1.5211e-01,  4.2748e-01,  4.6251e-02,  8.9143e-02,\n",
       "                        3.2359e-01,  1.8366e-01, -3.6491e-01, -2.8615e-01,  2.8355e-01,\n",
       "                       -1.2857e-01,  4.8811e-02,  1.6679e-01, -1.1734e-01, -3.9424e-02,\n",
       "                        1.4798e-01, -1.7381e-01, -2.0951e-01, -2.6137e-01, -1.2432e-01,\n",
       "                       -2.4637e-01, -1.8612e-01,  4.1674e-01,  7.7317e-02,  6.2845e-02,\n",
       "                       -1.7080e-01, -1.3340e-02, -1.7033e-01, -1.3927e-01,  2.9375e-01,\n",
       "                        2.6842e-01, -6.5536e-03,  8.4692e-02, -1.6090e-01,  1.9292e-01,\n",
       "                        1.1463e-01, -1.3708e-01, -2.0688e-01,  4.9003e-02, -2.3100e-01,\n",
       "                       -1.8323e-01,  7.8135e-02, -3.8487e-02, -1.6319e-01],\n",
       "                      [ 5.4355e-02, -1.2859e-01, -4.6495e-01,  9.0191e-02, -1.3495e-01,\n",
       "                       -1.3404e-02, -8.1509e-02,  4.8851e-02,  2.9234e-01,  7.3753e-02,\n",
       "                        1.1271e-01, -4.1126e-01,  2.3572e-01,  6.6935e-02, -2.3009e-01,\n",
       "                       -3.8667e-02, -1.7754e-01,  1.9629e-01, -2.0058e-01,  3.0310e-01,\n",
       "                       -1.6336e-01,  3.5053e-01, -1.5680e-01, -2.2929e-02, -2.1203e-02,\n",
       "                       -1.4046e-01,  1.6504e-01,  2.0325e-01,  1.5544e-01, -2.3651e-01,\n",
       "                       -2.5107e-01, -1.1343e-01, -3.4914e-01, -4.9628e-03,  6.3406e-02,\n",
       "                        2.4363e-01, -1.8984e-01, -1.8919e-01, -2.2160e-01,  3.2777e-01,\n",
       "                        1.9060e-01, -1.1191e-01,  4.1722e-01, -2.6653e-01,  1.3144e-02,\n",
       "                       -2.6122e-01, -1.5067e-01,  2.1059e-01,  1.1091e-01,  1.4688e-01,\n",
       "                        7.9564e-02, -1.0925e-01,  1.9863e-01, -1.7042e-01,  1.0079e-01,\n",
       "                        5.7018e-02,  3.8317e-01, -7.7999e-02,  5.1526e-02,  2.2065e-02,\n",
       "                       -1.2464e-01,  1.8802e-01,  1.0482e-01,  5.6083e-03]])),\n",
       "             ('layer3.bias',\n",
       "              tensor([-0.0355,  0.0920, -0.1561,  0.0635,  0.0815, -0.0546, -0.0361,  0.0807,\n",
       "                       0.0564, -0.0196]))])"
      ]
     },
     "execution_count": 37,
     "metadata": {},
     "output_type": "execute_result"
    }
   ],
   "source": [
    "torch.load('model.pth')"
   ]
  },
  {
   "cell_type": "code",
   "execution_count": null,
   "metadata": {},
   "outputs": [],
   "source": []
  }
 ],
 "metadata": {
  "kernelspec": {
   "display_name": "Python 3",
   "language": "python",
   "name": "python3"
  },
  "language_info": {
   "codemirror_mode": {
    "name": "ipython",
    "version": 3
   },
   "file_extension": ".py",
   "mimetype": "text/x-python",
   "name": "python",
   "nbconvert_exporter": "python",
   "pygments_lexer": "ipython3",
   "version": "3.7.6"
  }
 },
 "nbformat": 4,
 "nbformat_minor": 4
}
