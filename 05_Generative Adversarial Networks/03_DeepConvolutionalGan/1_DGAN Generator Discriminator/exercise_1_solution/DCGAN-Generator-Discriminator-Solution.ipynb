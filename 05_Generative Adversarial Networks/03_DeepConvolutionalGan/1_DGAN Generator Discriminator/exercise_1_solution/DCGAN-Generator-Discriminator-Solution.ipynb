{
 "cells": [
  {
   "cell_type": "markdown",
   "metadata": {},
   "source": [
    "# Deep Convolutional GANs\n",
    "\n",
    "In this notebook, you'll build a GAN using convolutional layers in the generator and discriminator. This is called a Deep Convolutional GAN, or DCGAN for short. The DCGAN architecture was first explored in 2016 and has seen impressive results in generating new images; you can read the [original paper, here](https://arxiv.org/pdf/1511.06434.pdf).\n",
    "\n",
    "You'll be training DCGAN on the [CIFAR10](https://www.cs.toronto.edu/~kriz/cifar.html) dataset. These are color images of different classes, such as airplanes, dogs or trucks. This dataset is much more complex and diverse than the MNIST dataset and justifies the use of the DCGAN architecture.\n",
    "\n",
    "<img src='../assets/cifar10_data.png' width=80% />\n",
    "\n",
    "\n",
    "So, our goal is to create a DCGAN that can generate new, realistic-looking images. We'll go through the following steps to do this:\n",
    "* Load in and pre-process the CIFAR10 dataset\n",
    "* **Define discriminator and generator networks**\n",
    "* Train these adversarial networks\n",
    "* Visualize the loss over time and some sample, generated images\n",
    "\n",
    "In this notebook, we will focus on defining the networks.\n",
    "\n",
    "#### Deeper Convolutional Networks\n",
    "\n",
    "Since this dataset is more complex than our MNIST data, we'll need a deeper network to accurately identify patterns in these images and be able to generate new ones. Specifically, we'll use a series of convolutional or transpose convolutional layers in the discriminator and generator. It's also necessary to use batch normalization to get these convolutional networks to train. \n",
    "\n",
    "Besides these changes in network structure, training the discriminator and generator networks should be the same as before. That is, the discriminator will alternate training on real and fake (generated) images, and the generator will aim to trick the discriminator into thinking that its generated images are real!"
   ]
  },
  {
   "cell_type": "markdown",
   "metadata": {},
   "source": [
    "## Discriminator\n",
    "\n",
    "Here you'll build the discriminator. This is a convolutional classifier like you've built before, only without any maxpooling layers. \n",
    "* The inputs to the discriminator are 32x32x3 tensor images\n",
    "* You'll want a few convolutional, hidden layers\n",
    "* Then a fully connected layer for the output; as before, we want a sigmoid output, but we'll add that in the loss function, [BCEWithLogitsLoss](https://pytorch.org/docs/stable/nn.html#bcewithlogitsloss), later\n",
    "\n",
    "<img src='../assets/conv_discriminator.png' width=80%/>\n",
    "\n",
    "For the depths of the convolutional layers I suggest starting with 32 filters in the first layer, then double that depth as you add layers (to 64, 128, etc.). Note that in the DCGAN paper, they did all the downsampling using only strided convolutional layers with no maxpooling layers.\n",
    "\n",
    "You'll also want to use batch normalization with [nn.BatchNorm2d](https://pytorch.org/docs/stable/nn.html#batchnorm2d) on each layer **except** the first convolutional layer and final, linear output layer. \n",
    "\n",
    "#### Helper `ConvBlock` module \n",
    "\n",
    "In general, each layer should look something like convolution > batch norm > leaky ReLU, and so we'll define a **custom torch Module** to put these layers together. This module will create a sequential series of a convolutional + an optional batch norm layer. \n",
    "\n",
    "Note: It is also suggested that you use a **kernel_size of 4** and a **stride of 2** for strided convolutions."
   ]
  },
  {
   "cell_type": "code",
   "execution_count": 1,
   "metadata": {},
   "outputs": [],
   "source": [
    "import torch\n",
    "import torch.nn as nn\n",
    "\n",
    "import tests"
   ]
  },
  {
   "cell_type": "code",
   "execution_count": 2,
   "metadata": {},
   "outputs": [],
   "source": [
    "class ConvBlock(nn.Module):\n",
    "    \"\"\"\n",
    "    A convolutional block is made of 3 layers: Conv -> BatchNorm -> Activation.\n",
    "    args:\n",
    "    - in_channels: number of channels in the input to the conv layer\n",
    "    - out_channels: number of filters in the conv layer\n",
    "    - kernel_size: filter dimension of the conv layer\n",
    "    - batch_norm: whether to use batch norm or not\n",
    "    \"\"\"\n",
    "    def __init__(self, in_channels: int, out_channels: int, kernel_size: int, batch_norm: bool = True):\n",
    "        super(ConvBlock, self).__init__()\n",
    "        \n",
    "        self.conv = nn.Conv2d(in_channels, out_channels, kernel_size, stride=2, padding=1, bias=False)\n",
    "        self.batch_norm = batch_norm\n",
    "        if self.batch_norm:\n",
    "            self.bn = nn.BatchNorm2d(out_channels)\n",
    "        self.activation = nn.LeakyReLU(0.2)\n",
    "        \n",
    "    def forward(self, x: torch.Tensor) -> torch.Tensor:\n",
    "        x = self.conv(x)\n",
    "        if self.batch_norm:\n",
    "            x = self.bn(x)\n",
    "        x = self.activation(x)\n",
    "        return x"
   ]
  },
  {
   "cell_type": "code",
   "execution_count": 3,
   "metadata": {},
   "outputs": [],
   "source": [
    "class Discriminator(nn.Module):\n",
    "    \"\"\"\n",
    "    The discriminator model adapted from the DCGAN paper. It should only contains a few layers.\n",
    "    args:\n",
    "    - conv_dim: control the number of filters\n",
    "    \"\"\"\n",
    "    def __init__(self, conv_dim: int):\n",
    "        super(Discriminator, self).__init__()\n",
    "\n",
    "        # complete init function\n",
    "        self.conv_dim = conv_dim\n",
    "\n",
    "        # 32x32 input\n",
    "        self.conv1 = ConvBlock(3, conv_dim, 4, batch_norm=False) # first layer, no batch_norm\n",
    "        # 16x16 out\n",
    "        self.conv2 = ConvBlock(conv_dim, conv_dim*2, 4)\n",
    "        # 8x8 out\n",
    "        self.conv3 = ConvBlock(conv_dim*2, conv_dim*4, 4)\n",
    "        # 4x4 out\n",
    "        \n",
    "        self.flatten = nn.Flatten()\n",
    "        # final, fully-connected layer\n",
    "        self.fc = nn.Linear(conv_dim*4*4*4, 1)\n",
    "\n",
    "    def forward(self, x):\n",
    "        # all hidden layers + leaky relu activation\n",
    "        x = self.conv1(x)\n",
    "        x = self.conv2(x)\n",
    "        x = self.conv3(x)\n",
    "        # flatten\n",
    "        x = self.flatten(x)\n",
    "        # final output layer\n",
    "        x = self.fc(x)        \n",
    "        return x"
   ]
  },
  {
   "cell_type": "code",
   "execution_count": 4,
   "metadata": {},
   "outputs": [
    {
     "name": "stdout",
     "output_type": "stream",
     "text": [
      "Discriminator(\n",
      "  (conv1): ConvBlock(\n",
      "    (conv): Conv2d(3, 64, kernel_size=(4, 4), stride=(2, 2), padding=(1, 1), bias=False)\n",
      "    (activation): LeakyReLU(negative_slope=0.2)\n",
      "  )\n",
      "  (conv2): ConvBlock(\n",
      "    (conv): Conv2d(64, 128, kernel_size=(4, 4), stride=(2, 2), padding=(1, 1), bias=False)\n",
      "    (bn): BatchNorm2d(128, eps=1e-05, momentum=0.1, affine=True, track_running_stats=True)\n",
      "    (activation): LeakyReLU(negative_slope=0.2)\n",
      "  )\n",
      "  (conv3): ConvBlock(\n",
      "    (conv): Conv2d(128, 256, kernel_size=(4, 4), stride=(2, 2), padding=(1, 1), bias=False)\n",
      "    (bn): BatchNorm2d(256, eps=1e-05, momentum=0.1, affine=True, track_running_stats=True)\n",
      "    (activation): LeakyReLU(negative_slope=0.2)\n",
      "  )\n",
      "  (flatten): Flatten(start_dim=1, end_dim=-1)\n",
      "  (fc): Linear(in_features=4096, out_features=1, bias=True)\n",
      ")\n"
     ]
    }
   ],
   "source": [
    "discriminator = Discriminator(64)\n",
    "print(discriminator)"
   ]
  },
  {
   "cell_type": "code",
   "execution_count": 5,
   "metadata": {},
   "outputs": [
    {
     "name": "stdout",
     "output_type": "stream",
     "text": [
      "Congrats, you successfully implemented your discriminator\n"
     ]
    }
   ],
   "source": [
    "tests.check_discriminator(discriminator, 32)"
   ]
  },
  {
   "cell_type": "markdown",
   "metadata": {},
   "source": [
    "## Generator\n",
    "\n",
    "Next, you'll build the generator network. The input will be our noise vector `z`, as before. And, the output will be a $tanh$ output, but this time with size 32x32 which is the size of our CIFAR10 images.\n",
    "\n",
    "<img src='../assets/conv_generator.png' width=80% />\n",
    "\n",
    "What's new here is we'll use transpose convolutional layers to create our new images. \n",
    "* The first layer is a fully connected layer which is reshaped into a deep and narrow layer, something like 4x4x512. \n",
    "* Then, we use batch normalization and a leaky ReLU activation. \n",
    "* Next is a series of [transpose convolutional layers](https://pytorch.org/docs/stable/nn.html#convtranspose2d), where you typically halve the depth and double the width and height of the previous layer. \n",
    "* And, we'll apply batch normalization and ReLU to all but the last of these hidden layers. Where we will just apply a `tanh` activation.\n",
    "\n",
    "#### Helper `DeconvBlock` function\n",
    "\n",
    "For each of these layers, the general scheme is transpose convolution > batch norm > ReLU, and so we'll define a function to put these layers together. This function will create a sequential series of a transpose convolutional + an optional batch norm layer. We'll create these using PyTorch's Sequential container, which takes in a list of layers and creates layers according to the order that they are passed in to the Sequential constructor.\n",
    "\n",
    "Note: It is also suggested that you use a **kernel_size of 4** and a **stride of 2** for transpose convolutions."
   ]
  },
  {
   "cell_type": "code",
   "execution_count": 6,
   "metadata": {},
   "outputs": [],
   "source": [
    "class DeconvBlock(nn.Module):\n",
    "    \"\"\"\n",
    "    A \"de-convolutional\" block is made of 3 layers: ConvTranspose -> BatchNorm -> Activation.\n",
    "    args:\n",
    "    - in_channels: number of channels in the input to the conv layer\n",
    "    - out_channels: number of filters in the conv layer\n",
    "    - kernel_size: filter dimension of the conv layer\n",
    "    - stride: stride of the conv layer\n",
    "    - padding: padding of the conv layer\n",
    "    - batch_norm: whether to use batch norm or not\n",
    "    \"\"\"\n",
    "    def __init__(self, \n",
    "                 in_channels: int, \n",
    "                 out_channels: int, \n",
    "                 kernel_size: int, \n",
    "                 stride: int,\n",
    "                 padding: int,\n",
    "                 batch_norm: bool = True):\n",
    "        super(DeconvBlock, self).__init__()\n",
    "        self.deconv = nn.ConvTranspose2d(in_channels, out_channels, kernel_size, stride, padding, bias=False)\n",
    "        self.batch_norm = batch_norm\n",
    "        if self.batch_norm:\n",
    "            self.bn = nn.BatchNorm2d(out_channels)\n",
    "        self.activation = nn.ReLU()\n",
    "        \n",
    "    def forward(self, x: torch.Tensor) -> torch.Tensor:\n",
    "        x = self.deconv(x)\n",
    "        if self.batch_norm:\n",
    "            x = self.bn(x)\n",
    "        x = self.activation(x)\n",
    "        return x"
   ]
  },
  {
   "cell_type": "code",
   "execution_count": 7,
   "metadata": {},
   "outputs": [],
   "source": [
    "class Generator(nn.Module):\n",
    "    \"\"\"\n",
    "    The generator model adapted from DCGAN\n",
    "    args:\n",
    "    - latent_dim: dimension of the latent vector\n",
    "    - conv_dim: control the number of filters in the convtranspose layers\n",
    "    \"\"\"\n",
    "    def __init__(self, latent_dim: int, conv_dim: int = 32):\n",
    "        super(Generator, self).__init__()\n",
    "        # transpose conv layers\n",
    "        self.deconv1 = DeconvBlock(latent_dim, conv_dim*4, 4, 1, 0)\n",
    "        self.deconv2 = DeconvBlock(conv_dim*4, conv_dim*2, 4, 2, 1)\n",
    "        self.deconv3 = DeconvBlock(conv_dim*2, conv_dim, 4, 2, 1)\n",
    "        self.deconv4 = nn.ConvTranspose2d(conv_dim, 3, 4, stride=2, padding=1)\n",
    "        self.last_activation = nn.Tanh()\n",
    "        \n",
    "    def forward(self, x):\n",
    "        x = self.deconv1(x)\n",
    "        x = self.deconv2(x)\n",
    "        x = self.deconv3(x)\n",
    "        x = self.deconv4(x)\n",
    "        x = self.last_activation(x)\n",
    "        return x\n",
    "    "
   ]
  },
  {
   "cell_type": "code",
   "execution_count": 8,
   "metadata": {},
   "outputs": [
    {
     "name": "stdout",
     "output_type": "stream",
     "text": [
      "Generator(\n",
      "  (deconv1): DeconvBlock(\n",
      "    (deconv): ConvTranspose2d(128, 128, kernel_size=(4, 4), stride=(1, 1), bias=False)\n",
      "    (bn): BatchNorm2d(128, eps=1e-05, momentum=0.1, affine=True, track_running_stats=True)\n",
      "    (activation): ReLU()\n",
      "  )\n",
      "  (deconv2): DeconvBlock(\n",
      "    (deconv): ConvTranspose2d(128, 64, kernel_size=(4, 4), stride=(2, 2), padding=(1, 1), bias=False)\n",
      "    (bn): BatchNorm2d(64, eps=1e-05, momentum=0.1, affine=True, track_running_stats=True)\n",
      "    (activation): ReLU()\n",
      "  )\n",
      "  (deconv3): DeconvBlock(\n",
      "    (deconv): ConvTranspose2d(64, 32, kernel_size=(4, 4), stride=(2, 2), padding=(1, 1), bias=False)\n",
      "    (bn): BatchNorm2d(32, eps=1e-05, momentum=0.1, affine=True, track_running_stats=True)\n",
      "    (activation): ReLU()\n",
      "  )\n",
      "  (deconv4): ConvTranspose2d(32, 3, kernel_size=(4, 4), stride=(2, 2), padding=(1, 1))\n",
      "  (last_activation): Tanh()\n",
      ")\n"
     ]
    }
   ],
   "source": [
    "generator = Generator(128)\n",
    "print(generator)"
   ]
  },
  {
   "cell_type": "code",
   "execution_count": 9,
   "metadata": {},
   "outputs": [
    {
     "name": "stdout",
     "output_type": "stream",
     "text": [
      "Congrats, you successfully implemented your discriminator\n"
     ]
    }
   ],
   "source": [
    "tests.check_generator(generator, 128, 32)"
   ]
  }
 ],
 "metadata": {
  "kernelspec": {
   "display_name": "Python 3",
   "language": "python",
   "name": "python3"
  },
  "language_info": {
   "codemirror_mode": {
    "name": "ipython",
    "version": 3
   },
   "file_extension": ".py",
   "mimetype": "text/x-python",
   "name": "python",
   "nbconvert_exporter": "python",
   "pygments_lexer": "ipython3",
   "version": "3.7.6"
  }
 },
 "nbformat": 4,
 "nbformat_minor": 5
}
